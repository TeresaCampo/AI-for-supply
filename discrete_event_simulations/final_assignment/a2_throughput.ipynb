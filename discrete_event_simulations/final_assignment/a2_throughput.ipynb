{
 "cells": [
  {
   "metadata": {},
   "cell_type": "markdown",
   "source": [
    "# PROBLEM DEFINITION\n",
    "The production system consists of six machines, each considered unbreakable (no maintenance required).\n",
    "\n",
    "This production system is responsible for producing three different families of products, each family needs a different floor routing and different processing tims for each machine\n",
    "\n",
    "## DATA\n",
    "- **6 machines**\n",
    "- **3 product families**\n",
    "- **Job arrival rate (exponential)** lambda 0.65\n",
    "- **Families’ weights**\n",
    "    - F1: 10%\n",
    "    - F2: 52%\n",
    "    - F3: 38%\n",
    "- **Families' floor routings**\n",
    "\n",
    "    ![Testo alternativo](floor_routing.png)\n",
    "- **Families processing times**\n",
    "    - F1: gamma distribution, alpha=2, beta=2\n",
    "    - F2: gamma distribution, alpha=4, beta=0.5\n",
    "    - F2: gamma distribution, alpha=6, beta=1/6\n",
    "- **Due dates**\n",
    "Uniform: U(30, 50)\n"
   ],
   "id": "d08e4d9b4c5735e7"
  },
  {
   "metadata": {},
   "cell_type": "markdown",
   "source": [
    "## GOAL 1\n",
    "\n",
    "Students must implement a simulation of the environment managed using the “PUSH” policy: whenever a new customer order is received, it is immediately released into the shop ﬂoor.\n",
    "\n",
    "The PUSH policy serves as the benchmark for comparison with the RL-based solution."
   ],
   "id": "5123c8bfeef0c2a6"
  },
  {
   "metadata": {},
   "cell_type": "markdown",
   "source": "# GOAL 1, throughput",
   "id": "212f7b1c2f3bf628"
  },
  {
   "metadata": {},
   "cell_type": "code",
   "source": [
    "import simpy\n",
    "from typing import Dict, Tuple"
   ],
   "id": "184cec95808833f",
   "outputs": [],
   "execution_count": null
  },
  {
   "metadata": {},
   "cell_type": "code",
   "source": [
    "class Family:\n",
    "    def __init__(self, name, floor_routing, processing_time, arrival_rate):\n",
    "        self.name : str = name\n",
    "        self.floor_routing : Dict[str, int] = floor_routing\n",
    "        self.processing_time: Tuple[int, int] = processing_time\n",
    "        self.arrival_rate : int = arrival_rate\n",
    "    \n",
    "    def machine_processing_time(self, job_rng):\n",
    "        return job_rng.gammavariate(alpha = self.processing_time[0], beta = self.processing_time[1])\n",
    "    \n",
    "    def __str__(self):\n",
    "        return self.name\n",
    "    \n",
    "FAMILIES = {\"F1\" : Family(\"F1\", {\"WC1\": 1, \"WC2\": 1, \"WC3\": 0, \"WC4\": 1, \"WC5\":1, \"WC6\": 1}, (2, 2), 10),\n",
    "            \"F2\" : Family(\"F2\", {\"WC1\": 0.8, \"WC2\": 0.8, \"WC3\": 1, \"WC4\": 0.8, \"WC5\":0.8, \"WC6\": 0.75}, (4, 0.5), 52),\n",
    "            \"F3\" : Family(\"F3\", {\"WC1\": 0, \"WC2\": 0, \"WC3\": 1, \"WC4\": 0, \"WC5\":0, \"WC6\": 0.75}, (6, 1/6), 38)\n",
    "            }  "
   ],
   "id": "24b280cdbf62a858",
   "outputs": [],
   "execution_count": null
  },
  {
   "metadata": {},
   "cell_type": "code",
   "source": [
    "from colorama import Fore, Style, init\n",
    "init(autoreset=True)\n",
    "\n",
    "FAMILIES_OUTPUT_COLORS = {\n",
    "    \"F1\" : Fore.LIGHTRED_EX,\n",
    "    \"F2\" : Fore.LIGHTYELLOW_EX,\n",
    "    \"F3\" : Fore.LIGHTGREEN_EX    \n",
    "}"
   ],
   "id": "791c3ee2793453c5",
   "outputs": [],
   "execution_count": null
  },
  {
   "metadata": {},
   "cell_type": "code",
   "source": [
    "from IPython.display import Markdown, display\n",
    "\n",
    "FAMILIES_OUTPUT_COLORS = {\n",
    "    \"F1\": \"red\",\n",
    "    \"F2\": \"orange\",\n",
    "    \"F3\": \"green\"\n",
    "}\n",
    "def color_print(family_name, text):\n",
    "    color = FAMILIES_OUTPUT_COLORS[family_name]\n",
    "    display(Markdown(f\"<span style='color:{color}; font-weight:bold'>{text}</span>\"))"
   ],
   "id": "7818c6e3469da402",
   "outputs": [],
   "execution_count": null
  },
  {
   "metadata": {},
   "cell_type": "markdown",
   "source": "Generate task of random family",
   "id": "e4259166ebe39d30"
  },
  {
   "metadata": {},
   "cell_type": "code",
   "source": [
    "import random\n",
    "\n",
    "FAMILY_SEED = 45\n",
    "family_rng = random.Random(FAMILY_SEED)\n",
    "def sample_family() -> Family:\n",
    "    family_names = list(FAMILIES.keys())\n",
    "    family_probability = list(FAMILIES[name].arrival_rate for name in family_names)\n",
    "    \n",
    "    sampled_family = family_rng.choices(family_names, weights=family_probability, k = 1)[0]\n",
    "    return Family(sampled_family, FAMILIES[sampled_family].floor_routing, FAMILIES[sampled_family].processing_time, FAMILIES[sampled_family].arrival_rate )"
   ],
   "id": "ef061b3d7fabe304",
   "outputs": [],
   "execution_count": null
  },
  {
   "metadata": {},
   "cell_type": "markdown",
   "source": [
    "Shape each machine as a simpy.Resource with capacity 1.\n",
    "Not one simpy.Resource with capacity = 6 because the machines differ one from another."
   ],
   "id": "76fb0a13b470bf7a"
  },
  {
   "metadata": {},
   "cell_type": "code",
   "source": [
    "class Machine(simpy.Resource):\n",
    "    def __init__(self, type_name : str, env: simpy.Environment, capacity: int = 1) -> None:\n",
    "        super().__init__(env, capacity)\n",
    "        self.env = env\n",
    "        self.type_name = type_name"
   ],
   "id": "2de13fa64f9421db",
   "outputs": [],
   "execution_count": null
  },
  {
   "metadata": {},
   "cell_type": "markdown",
   "source": "Shape each job, making it flow in machines according to its family",
   "id": "1464189e91844073"
  },
  {
   "metadata": {},
   "cell_type": "code",
   "source": [
    "class Job:\n",
    "    def __init__(self, env, family, id, this_job_rng):\n",
    "        self.env = env\n",
    "        self.family = family\n",
    "        self.this_job_rng = this_job_rng\n",
    "        self.id = id\n",
    "        \n",
    "    def process(self, shopfloor):\n",
    "        for machine_name, machine_probability in self.family.floor_routing.items():\n",
    "            if self.this_job_rng.random() < machine_probability:\n",
    "                with shopfloor.machines[machine_name].request() as request:\n",
    "                    #start waiting to be processed\n",
    "                    yield request\n",
    "                    #end of waiting\n",
    "                    yield self.env.timeout(self.family.machine_processing_time(self.this_job_rng))\n",
    "            else:\n",
    "                self.this_job_rng.random()\n",
    "                #to consume random numbers in same order\n",
    "        \n",
    "        shopfloor.statistics[\"time_finished_tasks\"].append(self.env.now)\n",
    "        color_print(self.family.name,f\"Order just delivered! id:{self.id}\")"
   ],
   "id": "8ccb9b356e8785b9",
   "outputs": [],
   "execution_count": null
  },
  {
   "metadata": {},
   "cell_type": "markdown",
   "source": [
    "Shape shop floor:\n",
    "* generates jobs\n",
    "* decide when to push jobs in the sho floor (with PUSH) policy\n",
    "* measure statistics"
   ],
   "id": "30029d4c9f59ab53"
  },
  {
   "metadata": {},
   "cell_type": "code",
   "source": [
    "JOB_SEED = 67\n",
    "job_rng = random.Random(JOB_SEED)\n",
    "\n",
    "class ShopFloor:\n",
    "    def __init__(self, env: simpy.Environment):\n",
    "        self.env = env\n",
    "        self.orders = []\n",
    "        self.job_id = 1\n",
    "        self.statistics = {\"time_finished_tasks\": []}\n",
    "\n",
    "        self.machines = {\n",
    "            \"WC1\": Machine(\"WC1\", env),\n",
    "            \"WC2\": Machine(\"WC2\", env),\n",
    "            \"WC3\": Machine(\"WC3\", env),\n",
    "            \"WC4\": Machine(\"WC4\", env),\n",
    "            \"WC5\": Machine(\"WC5\", env),\n",
    "            \"WC6\": Machine(\"WC6\", env)         \n",
    "        }\n",
    "    \n",
    "    def job_generator(self):\n",
    "        while True:\n",
    "            yield self.env.timeout(job_rng.expovariate(lambd= 0.65))\n",
    "            \n",
    "            this_job_rng_seed = job_rng.randint(0, 10_000_000)\n",
    "            this_job_rng = random.Random(this_job_rng_seed)\n",
    "            \n",
    "            new_job = Job(self.env, sample_family(), self.job_id, this_job_rng)\n",
    "            self.job_id += 1\n",
    "            self.orders.append(new_job)\n",
    "            \n",
    "            color_print(new_job.family.name, f'New order! It is {new_job.family} id:{new_job.id}')\n",
    "\n",
    "    def run(self):\n",
    "        while True:\n",
    "            if self.orders:\n",
    "                job = self.orders.pop(0)\n",
    "                self.env.process(job.process(self))\n",
    "            yield self.env.timeout(0.1)  #to be able to simulate"
   ],
   "id": "846b96e36781a76f",
   "outputs": [],
   "execution_count": null
  },
  {
   "metadata": {},
   "cell_type": "markdown",
   "source": "Run simulation",
   "id": "dd4692f9ccfc08ee"
  },
  {
   "metadata": {},
   "cell_type": "code",
   "source": [
    "env = simpy.Environment()\n",
    "shopfloor = ShopFloor(env = env)\n",
    "\n",
    "env.process(shopfloor.job_generator())\n",
    "env.process(shopfloor.run())\n",
    "\n",
    "env.run(until = 60)"
   ],
   "id": "5a430420ebc44b56",
   "outputs": [],
   "execution_count": null
  },
  {
   "metadata": {},
   "cell_type": "markdown",
   "source": [
    "## GOAL 2\n",
    "\n",
    "Students must implement an alternative environment where, upon receiving a customer order, the order is placed into a “pre-shop pool” (PSP). At regular intervals, a reinforcement learning (RL) agent will decide whether to release the most urgent order from the PSP into the shopﬂoor.\n",
    "The objective is to achieve:\n",
    "- the same throughput as the PUSH system\n",
    "- a comparable job tardiness \n",
    "- a comparable job earliness \n",
    "- lower WIP"
   ],
   "id": "8d813a24408cc998"
  }
 ],
 "metadata": {
  "kernelspec": {
   "display_name": "Python 3",
   "language": "python",
   "name": "python3"
  },
  "language_info": {
   "codemirror_mode": {
    "name": "ipython",
    "version": 2
   },
   "file_extension": ".py",
   "mimetype": "text/x-python",
   "name": "python",
   "nbconvert_exporter": "python",
   "pygments_lexer": "ipython2",
   "version": "2.7.6"
  }
 },
 "nbformat": 4,
 "nbformat_minor": 5
}
