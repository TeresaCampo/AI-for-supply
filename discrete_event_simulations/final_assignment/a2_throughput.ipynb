{
 "cells": [
  {
   "metadata": {},
   "cell_type": "markdown",
   "source": [
    "# PROBLEM DEFINITION\n",
    "The production system consists of six machines, each considered unbreakable (no maintenance required).\n",
    "\n",
    "This production system is responsible for producing three different families of products, each family needs a different floor routing and different processing tims for each machine\n",
    "\n",
    "## DATA\n",
    "- **6 machines**\n",
    "- **3 product families**\n",
    "- **Job arrival rate (exponential)** lambda 0.65\n",
    "- **Families’ weights**\n",
    "    - F1: 10%\n",
    "    - F2: 52%\n",
    "    - F3: 38%\n",
    "- **Families' floor routings**\n",
    "\n",
    "    ![Testo alternativo](floor_routing.png)\n",
    "- **Families processing times**\n",
    "    - F1: gamma distribution, alpha=2, beta=2\n",
    "    - F2: gamma distribution, alpha=4, beta=0.5\n",
    "    - F2: gamma distribution, alpha=6, beta=1/6\n",
    "- **Due dates**\n",
    "Uniform: U(30, 50)\n"
   ],
   "id": "d08e4d9b4c5735e7"
  },
  {
   "metadata": {},
   "cell_type": "markdown",
   "source": [
    "## GOAL 1\n",
    "\n",
    "Students must implement a simulation of the environment managed using the “PUSH” policy: whenever a new customer order is received, it is immediately released into the shop ﬂoor.\n",
    "\n",
    "The PUSH policy serves as the benchmark for comparison with the RL-based solution."
   ],
   "id": "5123c8bfeef0c2a6"
  },
  {
   "metadata": {},
   "cell_type": "markdown",
   "source": "# GOAL 1, throughput",
   "id": "212f7b1c2f3bf628"
  },
  {
   "metadata": {},
   "cell_type": "markdown",
   "source": "All the imports are grouped here",
   "id": "2b72087eaa8482ca"
  },
  {
   "metadata": {
    "ExecuteTime": {
     "end_time": "2025-07-06T09:39:40.739243Z",
     "start_time": "2025-07-06T09:39:40.736281Z"
    }
   },
   "cell_type": "code",
   "source": [
    "import simpy\n",
    "from typing import Dict, Tuple, List\n",
    "\n",
    "import time\n",
    "import random\n",
    "import numpy as np\n",
    "import matplotlib.pyplot as plt\n",
    "import scipy\n",
    "import math"
   ],
   "id": "184cec95808833f",
   "outputs": [],
   "execution_count": 70
  },
  {
   "metadata": {
    "ExecuteTime": {
     "end_time": "2025-07-06T08:55:28.898619Z",
     "start_time": "2025-07-06T08:55:28.887636Z"
    }
   },
   "cell_type": "code",
   "source": [
    "class Family:\n",
    "    def __init__(self, name, floor_routing, processing_time, arrival_rate):\n",
    "        self.name : str = name\n",
    "        self.floor_routing : Dict[str, int] = floor_routing\n",
    "        self.processing_time: Tuple[int, int] = processing_time\n",
    "        self.arrival_rate : int = arrival_rate\n",
    "    \n",
    "    def machine_processing_time(self, job_rng):\n",
    "        return job_rng.gammavariate(alpha = self.processing_time[0], beta = self.processing_time[1])\n",
    "    \n",
    "    def __str__(self):\n",
    "        return self.name\n",
    "    \n",
    "FAMILIES = {\"F1\" : Family(\"F1\", {\"WC1\": 1, \"WC2\": 1, \"WC3\": 0, \"WC4\": 1, \"WC5\":1, \"WC6\": 1}, (2, 2), 10),\n",
    "            \"F2\" : Family(\"F2\", {\"WC1\": 0.8, \"WC2\": 0.8, \"WC3\": 1, \"WC4\": 0.8, \"WC5\":0.8, \"WC6\": 0.75}, (4, 0.5), 52),\n",
    "            \"F3\" : Family(\"F3\", {\"WC1\": 0, \"WC2\": 0, \"WC3\": 1, \"WC4\": 0, \"WC5\":0, \"WC6\": 0.75}, (6, 1/6), 38)\n",
    "            }  "
   ],
   "id": "24b280cdbf62a858",
   "outputs": [],
   "execution_count": 2
  },
  {
   "metadata": {
    "ExecuteTime": {
     "end_time": "2025-07-06T08:55:28.904741Z",
     "start_time": "2025-07-06T08:55:28.900436Z"
    }
   },
   "cell_type": "code",
   "source": [
    "from IPython.display import Markdown, display\n",
    "\n",
    "FAMILIES_OUTPUT_COLORS = {\n",
    "    \"F1\": \"red\",\n",
    "    \"F2\": \"orange\",\n",
    "    \"F3\": \"green\"\n",
    "}\n",
    "def color_print(family_name, text):\n",
    "    color = FAMILIES_OUTPUT_COLORS[family_name]\n",
    "    display(Markdown(f\"<span style='color:{color}; font-weight:bold'>{text}</span>\"))"
   ],
   "id": "7818c6e3469da402",
   "outputs": [],
   "execution_count": 3
  },
  {
   "metadata": {
    "ExecuteTime": {
     "end_time": "2025-07-06T08:55:28.921003Z",
     "start_time": "2025-07-06T08:55:28.914606Z"
    }
   },
   "cell_type": "code",
   "source": [
    "class Job:\n",
    "    def __init__(self, env, family, id, this_job_rng):\n",
    "        self.env = env\n",
    "        self.family = family\n",
    "        self.this_job_rng = this_job_rng\n",
    "        self.id = id\n",
    "        \n",
    "    def process(self, shopfloor):\n",
    "        for machine_name, machine_probability in self.family.floor_routing.items():\n",
    "            if self.this_job_rng.random() < machine_probability:\n",
    "                with shopfloor.machines[machine_name].request() as request:\n",
    "                    #start waiting to be processed\n",
    "                    yield request\n",
    "                    #end of waiting\n",
    "                    yield self.env.timeout(self.family.machine_processing_time(self.this_job_rng))\n",
    "            else:\n",
    "                self.this_job_rng.random()\n",
    "                #to consume random numbers in same order\n",
    "        \n",
    "        shopfloor.statistics.raw_statistics[\"time_finished_task\"].append(self.env.now)\n",
    "        #color_print(self.family.name,f\"Order just delivered! id:{self.id}\")"
   ],
   "id": "8ccb9b356e8785b9",
   "outputs": [],
   "execution_count": 4
  },
  {
   "metadata": {},
   "cell_type": "markdown",
   "source": "Generate task of random family",
   "id": "e4259166ebe39d30"
  },
  {
   "metadata": {
    "ExecuteTime": {
     "end_time": "2025-07-06T08:55:28.954934Z",
     "start_time": "2025-07-06T08:55:28.949455Z"
    }
   },
   "cell_type": "code",
   "source": [
    "def sample_family(family_rng) -> Family:\n",
    "    family_names = list(FAMILIES.keys())\n",
    "    family_probability = list(FAMILIES[name].arrival_rate for name in family_names)\n",
    "    \n",
    "    sampled_family = family_rng.choices(family_names, weights=family_probability, k = 1)[0]\n",
    "    return Family(sampled_family, FAMILIES[sampled_family].floor_routing, FAMILIES[sampled_family].processing_time, FAMILIES[sampled_family].arrival_rate )"
   ],
   "id": "ef061b3d7fabe304",
   "outputs": [],
   "execution_count": 5
  },
  {
   "metadata": {},
   "cell_type": "markdown",
   "source": [
    "Shape each machine as a simpy.Resource with capacity 1.\n",
    "Not one simpy.Resource with capacity = 6 because the machines differ one from another."
   ],
   "id": "76fb0a13b470bf7a"
  },
  {
   "metadata": {
    "ExecuteTime": {
     "end_time": "2025-07-06T08:55:28.975828Z",
     "start_time": "2025-07-06T08:55:28.970564Z"
    }
   },
   "cell_type": "code",
   "source": [
    "class Machine(simpy.Resource):\n",
    "    def __init__(self, type_name : str, env: simpy.Environment, capacity: int = 1) -> None:\n",
    "        super().__init__(env, capacity)\n",
    "        self.env = env\n",
    "        self.type_name = type_name"
   ],
   "id": "2de13fa64f9421db",
   "outputs": [],
   "execution_count": 6
  },
  {
   "metadata": {},
   "cell_type": "markdown",
   "source": "Shape each job, making it flow in machines according to its family",
   "id": "1464189e91844073"
  },
  {
   "metadata": {},
   "cell_type": "markdown",
   "source": [
    "Shape shop floor:\n",
    "* generates jobs\n",
    "* decide when to push jobs in the sho floor (with PUSH) policy\n",
    "* measure statistics"
   ],
   "id": "30029d4c9f59ab53"
  },
  {
   "metadata": {
    "ExecuteTime": {
     "end_time": "2025-07-06T08:55:29.014476Z",
     "start_time": "2025-07-06T08:55:29.009946Z"
    }
   },
   "cell_type": "code",
   "source": [
    "class Statistics:\n",
    "    def __init__(self):\n",
    "        self.raw_statistics={\"time_finished_task\": []}\n",
    "        self.replication_statistics={\"throughput\": []}"
   ],
   "id": "ec7cf3954b5347d",
   "outputs": [],
   "execution_count": 7
  },
  {
   "metadata": {
    "ExecuteTime": {
     "end_time": "2025-07-06T09:02:00.361982Z",
     "start_time": "2025-07-06T09:02:00.355132Z"
    }
   },
   "cell_type": "code",
   "source": [
    "class ShopFloor:\n",
    "    def __init__(self, env: simpy.Environment, job_rng, family_rng):\n",
    "        self.env = env\n",
    "        self.job_rng = job_rng\n",
    "        self.family_rng = family_rng\n",
    "        \n",
    "        self.orders = []\n",
    "        self.job_id = 1\n",
    "        self.statistics = Statistics()\n",
    "\n",
    "        self.machines = {\n",
    "            \"WC1\": Machine(\"WC1\", env),\n",
    "            \"WC2\": Machine(\"WC2\", env),\n",
    "            \"WC3\": Machine(\"WC3\", env),\n",
    "            \"WC4\": Machine(\"WC4\", env),\n",
    "            \"WC5\": Machine(\"WC5\", env),\n",
    "            \"WC6\": Machine(\"WC6\", env)         \n",
    "        }\n",
    "    \n",
    "    def job_generator(self):\n",
    "        while True:\n",
    "            yield self.env.timeout(self.job_rng.expovariate(lambd= 0.65))\n",
    "            \n",
    "            this_job_rng_seed = self.job_rng.randint(0, 10_000_000)\n",
    "            this_job_rng = random.Random(this_job_rng_seed)\n",
    "            \n",
    "            new_job = Job(self.env, sample_family(self.family_rng), self.job_id, this_job_rng)\n",
    "            self.job_id += 1\n",
    "            self.orders.append(new_job)\n",
    "            \n",
    "            #color_print(new_job.family.name, f'New order! It is {new_job.family} id:{new_job.id}')\n",
    "\n",
    "    def evaluate_metrics(self):\n",
    "        while True:\n",
    "            yield self.env.timeout(60)\n",
    "            \n",
    "            # every 60 minutes' throughput for Welch evaluation\n",
    "            n_tasks = len(self.statistics.raw_statistics[\"time_finished_task\"])\n",
    "            n_minutes = self.env.now\n",
    "            new_throughput = n_tasks / (n_minutes / 60)\n",
    "            self.statistics.replication_statistics[\"throughput\"].append(new_throughput)\n",
    "              \n",
    "    def run(self):\n",
    "        while True:\n",
    "            if self.orders:\n",
    "                job = self.orders.pop(0)\n",
    "                self.env.process(job.process(self))\n",
    "            yield self.env.timeout(1/60)  #to be able to simulate, go on every second"
   ],
   "id": "846b96e36781a76f",
   "outputs": [],
   "execution_count": 20
  },
  {
   "metadata": {},
   "cell_type": "markdown",
   "source": [
    "Specify:\n",
    "* simulation length (in minutes)\n",
    "* random generator seeds (both for job_seed and family_seed) "
   ],
   "id": "3b21a4775139b2ad"
  },
  {
   "metadata": {
    "ExecuteTime": {
     "end_time": "2025-07-06T09:02:03.113977Z",
     "start_time": "2025-07-06T09:02:03.109944Z"
    }
   },
   "cell_type": "code",
   "source": [
    "def run_system(job_seed, family_seed, simulation_length: int):\n",
    "    env = simpy.Environment()\n",
    "    \n",
    "    job_rng = random.Random(job_seed)\n",
    "    family_rng = random.Random(family_seed)\n",
    "    \n",
    "    shopfloor = ShopFloor(env = env, job_rng= job_rng, family_rng = family_rng)\n",
    "    env.process(shopfloor.job_generator())\n",
    "    env.process(shopfloor.evaluate_metrics())\n",
    "    env.process(shopfloor.run())\n",
    "    env.run(until = simulation_length)\n",
    "    \n",
    "    return shopfloor.statistics"
   ],
   "id": "1421b794a2c6cdb",
   "outputs": [],
   "execution_count": 21
  },
  {
   "metadata": {},
   "cell_type": "markdown",
   "source": "Run 10 different replications of the same simulation (same parameters, different seeds for random numbers)",
   "id": "950e42b709829fee"
  },
  {
   "metadata": {
    "ExecuteTime": {
     "end_time": "2025-07-06T09:28:08.284436Z",
     "start_time": "2025-07-06T09:27:17.350702Z"
    }
   },
   "cell_type": "code",
   "source": [
    "replications_statistics = {\"throughput\": []}\n",
    "for seed in range(1,11):\n",
    "    print(f\"BEGINNING OF EPISODE {seed}\")\n",
    "    episode_beginning = time.time()\n",
    "    statistics = run_system(seed, seed, 60 * 500)\n",
    "    replications_statistics[\"throughput\"].append(statistics.replication_statistics[\"throughput\"])\n",
    "    \n",
    "    episode_duration = (time.time() - episode_beginning)\n",
    "    n_completed_tasks = len(statistics.raw_statistics['time_finished_task'])\n",
    "    print(f\"END OF EPISODE {seed} (execution time: {episode_duration:.3} seconds)\\n\"\n",
    "          f\"Statistics-----------------------------------------------------\\n\"\n",
    "          f\"{n_completed_tasks} tasks completed in {500} hours\\n\"\n",
    "          f\"Throughput {n_completed_tasks / 500}\\n\"\n",
    "          f\"---------------------------------------------------------------\\n\\n\"\n",
    "          )"
   ],
   "id": "acaa599aeba41e05",
   "outputs": [
    {
     "name": "stdout",
     "output_type": "stream",
     "text": [
      "BEGINNING OF EPISODE 1\n",
      "END OF EPISODE 1 (execution time: 5.12 seconds)\n",
      "Statistics-----------------------------------------------------\n",
      "19631 tasks completed in 500 hours\n",
      "Throughput 39.262\n",
      "---------------------------------------------------------------\n",
      "\n",
      "\n",
      "BEGINNING OF EPISODE 2\n",
      "END OF EPISODE 2 (execution time: 4.89 seconds)\n",
      "Statistics-----------------------------------------------------\n",
      "19729 tasks completed in 500 hours\n",
      "Throughput 39.458\n",
      "---------------------------------------------------------------\n",
      "\n",
      "\n",
      "BEGINNING OF EPISODE 3\n",
      "END OF EPISODE 3 (execution time: 4.94 seconds)\n",
      "Statistics-----------------------------------------------------\n",
      "19495 tasks completed in 500 hours\n",
      "Throughput 38.99\n",
      "---------------------------------------------------------------\n",
      "\n",
      "\n",
      "BEGINNING OF EPISODE 4\n",
      "END OF EPISODE 4 (execution time: 4.98 seconds)\n",
      "Statistics-----------------------------------------------------\n",
      "19437 tasks completed in 500 hours\n",
      "Throughput 38.874\n",
      "---------------------------------------------------------------\n",
      "\n",
      "\n",
      "BEGINNING OF EPISODE 5\n",
      "END OF EPISODE 5 (execution time: 5.05 seconds)\n",
      "Statistics-----------------------------------------------------\n",
      "19321 tasks completed in 500 hours\n",
      "Throughput 38.642\n",
      "---------------------------------------------------------------\n",
      "\n",
      "\n",
      "BEGINNING OF EPISODE 6\n",
      "END OF EPISODE 6 (execution time: 5.11 seconds)\n",
      "Statistics-----------------------------------------------------\n",
      "19395 tasks completed in 500 hours\n",
      "Throughput 38.79\n",
      "---------------------------------------------------------------\n",
      "\n",
      "\n",
      "BEGINNING OF EPISODE 7\n",
      "END OF EPISODE 7 (execution time: 5.18 seconds)\n",
      "Statistics-----------------------------------------------------\n",
      "19736 tasks completed in 500 hours\n",
      "Throughput 39.472\n",
      "---------------------------------------------------------------\n",
      "\n",
      "\n",
      "BEGINNING OF EPISODE 8\n",
      "END OF EPISODE 8 (execution time: 5.18 seconds)\n",
      "Statistics-----------------------------------------------------\n",
      "19710 tasks completed in 500 hours\n",
      "Throughput 39.42\n",
      "---------------------------------------------------------------\n",
      "\n",
      "\n",
      "BEGINNING OF EPISODE 9\n",
      "END OF EPISODE 9 (execution time: 5.25 seconds)\n",
      "Statistics-----------------------------------------------------\n",
      "19394 tasks completed in 500 hours\n",
      "Throughput 38.788\n",
      "---------------------------------------------------------------\n",
      "\n",
      "\n",
      "BEGINNING OF EPISODE 10\n",
      "END OF EPISODE 10 (execution time: 5.23 seconds)\n",
      "Statistics-----------------------------------------------------\n",
      "19721 tasks completed in 500 hours\n",
      "Throughput 39.442\n",
      "---------------------------------------------------------------\n",
      "\n",
      "\n"
     ]
    }
   ],
   "execution_count": 60
  },
  {
   "metadata": {},
   "cell_type": "markdown",
   "source": [
    "# THROUGHPUT ANALYSIS\n",
    "Apply Welch to determine 'throughput' warmup period"
   ],
   "id": "e25e61fb16dc2d1a"
  },
  {
   "metadata": {
    "ExecuteTime": {
     "end_time": "2025-07-06T09:33:20.214456Z",
     "start_time": "2025-07-06T09:33:20.206790Z"
    }
   },
   "cell_type": "code",
   "source": [
    "class MyWelch:\n",
    "    def __init__(self, replications_values: List[List[int]], half_window_size : int, tol: float):\n",
    "        self.replications_values = np.array(replications_values)\n",
    "        self.half_window_size = half_window_size\n",
    "        self.tol = tol\n",
    "        \n",
    "        self.replications_meanperstep= None\n",
    "        self.replications_meanperstep_slidingwindow= []\n",
    "        \n",
    "        self.evaluate_mean_per_step()\n",
    "        self.evaluate_sliding_window_mean()        \n",
    "        self.warmup_l = self.determine_warmup_l()\n",
    "        \n",
    "    def evaluate_mean_per_step(self):\n",
    "        self.replications_meanperstep =self.replications_values.mean(axis = 0)\n",
    "    \n",
    "    @staticmethod\n",
    "    def moving_average(arr: np.ndarray, window_size: int) -> np.ndarray:\n",
    "        weights = np.ones(window_size) / window_size\n",
    "        return np.convolve(arr, weights, mode=\"valid\")\n",
    "    \n",
    "    def evaluate_sliding_window_mean(self):\n",
    "        self.replications_meanperstep_slidingwindow= self.moving_average(self.replications_meanperstep, self.half_window_size)\n",
    "        \n",
    "    def determine_warmup_l(self):\n",
    "        diff = np.diff(self.replications_meanperstep_slidingwindow)\n",
    "        rel_diff = np.abs(diff / self.replications_meanperstep_slidingwindow[1:]) * 100\n",
    "        \n",
    "        count = 0\n",
    "        k = 50\n",
    "       #if warmup l is found, return l\n",
    "        for (i, value) in enumerate(rel_diff):\n",
    "            if value < self.tol:\n",
    "                count += 1\n",
    "                if count >= k:\n",
    "                    return  i - k + 1 + self.half_window_size\n",
    "            else:\n",
    "                count = 0\n",
    "        #if no warmup l is found, return -1\n",
    "        return -1\n",
    "    \n",
    "    def plot_weltch(self):\n",
    "        plt.title(\"Warmup identification with Welch\")\n",
    "        plt.xlabel(\"hours\")\n",
    "        plt.ylabel(\"throughput smoothed with sliding window mean\")\n",
    "        plt.plot(self.replications_meanperstep_slidingwindow)\n",
    "        if self.warmup_l == -1:\n",
    "            print(\"No warmup l found\")\n",
    "        else:\n",
    "            plt.axvline(\n",
    "                self.warmup_l,\n",
    "                color=\"r\",\n",
    "                linestyle=\"--\",\n",
    "                label=f\"warmup period: {self.warmup_l}\", \n",
    "            )\n",
    "            plt.legend(loc=\"best\")\n",
    "        plt.show()\n",
    "    \n",
    "    def plot_statistics(self):\n",
    "        plt.title(\"Throughputs of all the replications\")\n",
    "        plt.xlabel(\"hours\")\n",
    "        plt.ylabel(\"throughput (tasks per hour)\")\n",
    "        plt.plot(self.replications_values.T)\n",
    "        plt.show()\n"
   ],
   "id": "a262d3d8368f0662",
   "outputs": [],
   "execution_count": 68
  },
  {
   "metadata": {
    "ExecuteTime": {
     "end_time": "2025-07-06T09:33:27.717058Z",
     "start_time": "2025-07-06T09:33:27.408969Z"
    }
   },
   "cell_type": "code",
   "source": [
    "throughput_welch = MyWelch(replications_statistics[\"throughput\"], 15, 0.02)\n",
    "throughput_welch.plot_statistics()\n",
    "throughput_welch.plot_weltch()"
   ],
   "id": "61e562b604e85bf6",
   "outputs": [
    {
     "data": {
      "text/plain": [
       "<Figure size 640x480 with 1 Axes>"
      ],
      "image/png": "[encoded data removed]"
     },
     "metadata": {},
     "output_type": "display_data"
    },
    {
     "data": {
      "text/plain": [
       "<Figure size 640x480 with 1 Axes>"
      ],
      "image/png": "[encoded data removed]"
     },
     "metadata": {},
     "output_type": "display_data"
    }
   ],
   "execution_count": 69
  },
  {
   "metadata": {},
   "cell_type": "markdown",
   "source": "Evaluate throughput selecting only values registered after warmup period",
   "id": "155ad5ee3fe97090"
  },
  {
   "metadata": {
    "ExecuteTime": {
     "end_time": "2025-07-06T10:24:58.314820Z",
     "start_time": "2025-07-06T10:24:58.311672Z"
    }
   },
   "cell_type": "code",
   "source": [
    "def evaluate_steady_state_replications_mean(complete_statistics: List[List[int]], warmup_l: int):\n",
    "    steady_state_replications_mean = []\n",
    "    \n",
    "    for replication in complete_statistics:\n",
    "        steady_state_statistics = replication[warmup_l:]\n",
    "        steady_state_replications_mean.append(np.array(steady_state_statistics).mean())\n",
    "    \n",
    "    return steady_state_replications_mean"
   ],
   "id": "e1f511ea9475bf3e",
   "outputs": [],
   "execution_count": 100
  },
  {
   "metadata": {
    "ExecuteTime": {
     "end_time": "2025-07-06T10:24:59.172964Z",
     "start_time": "2025-07-06T10:24:59.168169Z"
    }
   },
   "cell_type": "code",
   "source": [
    "def evaluate_confidence_interval(complete_statistics: List[List[int]], warmup_l: int, alpha):\n",
    "    n = len(complete_statistics)\n",
    "    \n",
    "    steady_state_replications_means = evaluate_steady_state_replications_mean(replications_statistics[\"throughput\"], throughput_welch.warmup_l)\n",
    "    mean = np.array(steady_state_replications_means).sum() / len(steady_state_replications_means)\n",
    "    \n",
    "    variance = math.pow((np.array(steady_state_replications_means)-mean).sum(), 2) / (len(steady_state_replications_means)-1)\n",
    "    \n",
    "    t = scipy.stats.t.ppf(1-alpha, n-1)\n",
    "    \n",
    "    absolute_error = t * math.sqrt(math.pow(variance, 2)/ n)\n",
    "    print(f\"Confidence interval is {mean} +- {absolute_error}\")"
   ],
   "id": "df8e8766c1bf0e96",
   "outputs": [],
   "execution_count": 102
  },
  {
   "metadata": {
    "ExecuteTime": {
     "end_time": "2025-07-06T10:25:51.342577Z",
     "start_time": "2025-07-06T10:25:51.338800Z"
    }
   },
   "cell_type": "code",
   "source": "evaluate_confidence_interval(replications_statistics[\"throughput\"], throughput_welch.warmup_l, 0.1)",
   "id": "12fa33738e0be0e7",
   "outputs": [
    {
     "name": "stdout",
     "output_type": "stream",
     "text": [
      "Confidence interval is 39.125180092119486 +- 9.813616761202497e-30\n"
     ]
    }
   ],
   "execution_count": 106
  },
  {
   "metadata": {},
   "cell_type": "markdown",
   "source": "",
   "id": "2ff8600d7c0d24c0"
  },
  {
   "metadata": {},
   "cell_type": "markdown",
   "source": [
    "## GOAL 2\n",
    "\n",
    "Students must implement an alternative environment where, upon receiving a customer order, the order is placed into a “pre-shop pool” (PSP). At regular intervals, a reinforcement learning (RL) agent will decide whether to release the most urgent order from the PSP into the shopﬂoor.\n",
    "The objective is to achieve:\n",
    "- the same throughput as the PUSH system\n",
    "- a comparable job tardiness \n",
    "- a comparable job earliness \n",
    "- lower WIP"
   ],
   "id": "8d813a24408cc998"
  }
 ],
 "metadata": {
  "kernelspec": {
   "display_name": "Python 3",
   "language": "python",
   "name": "python3"
  },
  "language_info": {
   "codemirror_mode": {
    "name": "ipython",
    "version": 2
   },
   "file_extension": ".py",
   "mimetype": "text/x-python",
   "name": "python",
   "nbconvert_exporter": "python",
   "pygments_lexer": "ipython2",
   "version": "2.7.6"
  }
 },
 "nbformat": 4,
 "nbformat_minor": 5
}
