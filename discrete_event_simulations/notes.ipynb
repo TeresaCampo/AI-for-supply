{
 "cells": [
  {
   "metadata": {
    "ExecuteTime": {
     "end_time": "2025-06-26T14:54:25.771272Z",
     "start_time": "2025-06-26T14:54:25.767059Z"
    }
   },
   "cell_type": "code",
   "source": [
    "import simpy\n",
    "from simpy import Process\n",
    "from simpy.events import Timeout\n",
    "from simpy.resources.resource import Release, Request"
   ],
   "id": "a34403362174da5f",
   "outputs": [],
   "execution_count": 12
  },
  {
   "metadata": {},
   "cell_type": "markdown",
   "source": "Resources are used to represent limited amount of something that needs to be share among clients",
   "id": "90a08e0b7e6a2eb5"
  },
  {
   "metadata": {},
   "cell_type": "code",
   "outputs": [],
   "execution_count": null,
   "source": [
    "class Cashier(simpy.Resource):\n",
    "    def __init__(self, env: simpy.Environment, capacity: int) -> None:\n",
    "        super().__init__(env, capacity)\n",
    "        self.env = env\n",
    "        # resource's info"
   ],
   "id": "42ed310900685c4d"
  },
  {
   "metadata": {},
   "cell_type": "markdown",
   "source": "request.callbacks.append(function...) indicates what to do next when request is accepted by server",
   "id": "e807addd71925fca"
  },
  {
   "metadata": {},
   "cell_type": "code",
   "outputs": [],
   "execution_count": null,
   "source": [
    "def request(self) -> Request:\n",
    "        request = super().request()\n",
    "        self._update_queue_history(None)\n",
    "\n",
    "        request.callbacks.append(self._update_queue_history)\n",
    "        return request"
   ],
   "id": "fccd02db2584dc03"
  },
  {
   "metadata": {},
   "cell_type": "markdown",
   "source": [
    "When we need a resource:\n",
    "1. we call its method .request()\n",
    "2. we wait for the request to become available\n",
    "3. we register process to be done when resource is available + we inform the system to wait for the process to finish\n",
    "\n",
    "THEORY\n",
    "In simpy all this methods return Events\n",
    "* .timeout()  \n",
    "* .process()\n",
    "* .request()\n",
    "* .release()\n",
    "yield waits for the event to be returned before going on"
   ],
   "id": "95e74311a09059d"
  },
  {
   "metadata": {},
   "cell_type": "code",
   "outputs": [],
   "execution_count": null,
   "source": [
    "with cashier.request() as req:\n",
    "    yield req                                               #wait for the resource\n",
    "    yield env.process(cashier.process_customer(customer))   #register the process and tell the system to wait the end of that process before going on"
   ],
   "id": "a85d12163e793e63"
  }
 ],
 "metadata": {
  "kernelspec": {
   "display_name": "Python 3",
   "language": "python",
   "name": "python3"
  },
  "language_info": {
   "codemirror_mode": {
    "name": "ipython",
    "version": 2
   },
   "file_extension": ".py",
   "mimetype": "text/x-python",
   "name": "python",
   "nbconvert_exporter": "python",
   "pygments_lexer": "ipython2",
   "version": "2.7.6"
  }
 },
 "nbformat": 4,
 "nbformat_minor": 5
}
